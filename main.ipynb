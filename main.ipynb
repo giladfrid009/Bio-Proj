{
 "cells": [
  {
   "cell_type": "code",
   "execution_count": 2,
   "metadata": {},
   "outputs": [],
   "source": [
    "import cv2\n",
    "from cv2 import VideoCapture\n",
    "import numpy as np\n",
    "from tqdm import tqdm\n",
    "from typing import Callable"
   ]
  },
  {
   "cell_type": "code",
   "execution_count": 3,
   "metadata": {},
   "outputs": [],
   "source": [
    "def calcBackground(\n",
    "    video_path: str,\n",
    "    num_samples: int = 100,\n",
    "    image_transform: Callable[[np.ndarray], np.ndarray] = None,\n",
    ") -> np.ndarray:\n",
    "    # Open Video\n",
    "    cap = VideoCapture(video_path)\n",
    "\n",
    "    # Get Video Length\n",
    "    length = int(cap.get(cv2.CAP_PROP_FRAME_COUNT))\n",
    "\n",
    "    # Randomly select up to 50 frames\n",
    "    frame_ids = length * np.random.uniform(size=min(length, num_samples))\n",
    "\n",
    "    # Store selected frames in an array\n",
    "    frames = []\n",
    "    for fid in tqdm(frame_ids, desc=\"reading frames\"):\n",
    "        cap.set(cv2.CAP_PROP_POS_FRAMES, fid)\n",
    "        ret, frame = cap.read()\n",
    "\n",
    "        # Apply transform if needed\n",
    "        if image_transform is not None:\n",
    "            frame = image_transform(frame)\n",
    "\n",
    "        # Convert to grayscale\n",
    "        frames.append(frame)\n",
    "\n",
    "    # Calculate the median along the time axis\n",
    "    median_frame = np.median(frames, axis=0).astype(dtype=np.uint8)\n",
    "\n",
    "    return median_frame"
   ]
  },
  {
   "cell_type": "code",
   "execution_count": 4,
   "metadata": {},
   "outputs": [],
   "source": [
    "def toGrayscale(image):\n",
    "    return cv2.cvtColor(image, cv2.COLOR_BGR2GRAY)"
   ]
  },
  {
   "cell_type": "code",
   "execution_count": 5,
   "metadata": {},
   "outputs": [],
   "source": [
    "def findBoxes(\n",
    "    image: np.ndarray,\n",
    "    background: np.ndarray,\n",
    "    min_diff_thresh: int = 75,\n",
    "    min_size_thresh: int = 40,\n",
    ") -> np.ndarray:\n",
    "    # Calculate difference between background and image\n",
    "    diff = np.abs(image.astype(np.int32) - background.astype(np.int32)).astype(np.uint8)\n",
    "\n",
    "    # Turn differences mask to black & white according to a threshold value\n",
    "    _, mask = cv2.threshold(diff, min_diff_thresh, 255, cv2.THRESH_BINARY)\n",
    "\n",
    "    # find contours in the binary mask\n",
    "    contours, _ = cv2.findContours(mask, cv2.RETR_EXTERNAL, cv2.CHAIN_APPROX_SIMPLE)\n",
    "\n",
    "    # Populate bounding boxes\n",
    "    bbox_list = []\n",
    "    for c in contours:\n",
    "        box = cv2.boundingRect(c)\n",
    "\n",
    "        # Skip too small bounding boxes\n",
    "        if box[2] < min_size_thresh and box[3] < min_size_thresh:\n",
    "            continue\n",
    "\n",
    "        bbox_list.append(box)\n",
    "\n",
    "    # Turn our bboxes into 2d ndarray\n",
    "    bboxes = np.asanyarray(bbox_list)\n",
    "    return bboxes"
   ]
  },
  {
   "cell_type": "code",
   "execution_count": 6,
   "metadata": {},
   "outputs": [],
   "source": [
    "def resizeBoxes(bboxes: np.ndarray, new_width: int = 200, new_height: int = 200) -> np.ndarray:\n",
    "    n = bboxes.shape[0]\n",
    "\n",
    "    # Create width and heigh arrays\n",
    "    new_width = np.full(shape=[n], fill_value=new_width)\n",
    "    new_height = np.full(shape=[n], fill_value=new_height)\n",
    "\n",
    "    # Unpack columns\n",
    "    x, y, w, h = bboxes.T\n",
    "\n",
    "    # Calc center of bbox\n",
    "    x_mid = x + w // 2\n",
    "    y_mid = y + h // 2\n",
    "\n",
    "    # Calc upper left corner\n",
    "    new_x = x_mid - new_width // 2\n",
    "    new_y = y_mid - new_height // 2\n",
    "\n",
    "    # Join the columns back\n",
    "    new_bboxes = np.column_stack((new_x, new_y, new_width, new_height))\n",
    "\n",
    "    # Fix out of bounds coords\n",
    "    new_bboxes[new_bboxes < 0] = 0\n",
    "\n",
    "    return new_bboxes"
   ]
  },
  {
   "cell_type": "code",
   "execution_count": 7,
   "metadata": {},
   "outputs": [],
   "source": [
    "def removeOverlappingBoxes(bboxes: np.ndarray) -> np.ndarray:\n",
    "    # Magical stuff are happening here, ty stackoverflow\n",
    "    n = bboxes.shape[0]\n",
    "\n",
    "    # Calculate left, right, top, bottom limits\n",
    "    left = np.expand_dims(bboxes[:, 0], axis=1)\n",
    "    right = np.expand_dims(bboxes[:, 0] + bboxes[:, 2], axis=1)\n",
    "    top = np.expand_dims(bboxes[:, 1], axis=1)\n",
    "    bottom = np.expand_dims(bboxes[:, 1] + bboxes[:, 3], axis=1)\n",
    "\n",
    "    # Check for left limit intrusions, right limit intrusions, ...\n",
    "    check_l = (left <= left.T) & (left.T <= right)\n",
    "    check_r = (left <= right.T) & (right.T <= right)\n",
    "    check_t = (top <= top.T) & (top.T <= bottom)\n",
    "    check_b = (top <= bottom.T) & (bottom.T <= bottom)\n",
    "\n",
    "    # Check for combinations of left-top intrusions, left-bottom intrusions, ...\n",
    "    check_lt = check_l & check_t\n",
    "    check_lb = check_l & check_b\n",
    "    check_rt = check_r & check_t\n",
    "    check_rb = check_r & check_b\n",
    "\n",
    "    # Get all combinations; get rid of self identical matches\n",
    "    check = check_lt | check_lb | check_rt | check_rb\n",
    "    check = np.bitwise_xor(check, np.eye(n, dtype=bool))\n",
    "    check = np.argwhere(check)\n",
    "\n",
    "    # Get unique indices of bad bboxes\n",
    "    bad_indices = np.unique(check)\n",
    "\n",
    "    # Get indices of good bboxes\n",
    "    good_indices = np.arange(n)\n",
    "    good_indices = good_indices[np.in1d(good_indices, bad_indices, invert=True)]\n",
    "\n",
    "    # Take only the good bboxes\n",
    "    good_bboxes = np.take(bboxes, good_indices, axis=0)\n",
    "\n",
    "    return good_bboxes"
   ]
  },
  {
   "cell_type": "code",
   "execution_count": 14,
   "metadata": {},
   "outputs": [],
   "source": [
    "def FindRois(\n",
    "    video_path: str,\n",
    "    video_background: np.ndarray,\n",
    "    background_diff_thresh: int = 60,\n",
    "    bbox_size_thresh: int = 40,\n",
    "    image_transform: Callable[[np.ndarray], np.ndarray] = None,\n",
    "):\n",
    "    cap = VideoCapture(video_path)\n",
    "\n",
    "    while True:\n",
    "        ret, image = cap.read()\n",
    "        if ret == False:\n",
    "            break\n",
    "\n",
    "        if cv2.waitKey(1) & 0xFF == ord(\"q\"):\n",
    "            break\n",
    "\n",
    "        if image_transform is not None:\n",
    "            img_trans = image_transform(image)\n",
    "\n",
    "        bboxes = findBoxes(\n",
    "            img_trans,\n",
    "            background=video_background,\n",
    "            min_diff_thresh=background_diff_thresh,\n",
    "            min_size_thresh=bbox_size_thresh,\n",
    "        )\n",
    "\n",
    "        bboxes = resizeBoxes(bboxes, new_width=250, new_height=250)\n",
    "        bboxes = removeOverlappingBoxes(bboxes)\n",
    "\n",
    "        # Draw bboxes\n",
    "        for box in bboxes:\n",
    "            x, y, w, h = box\n",
    "\n",
    "            cv2.rectangle(image, (x, y), (x + w, y + h), (0, 0, 255), 3)\n",
    "\n",
    "        cv2.imshow(\"BBOXES\", image)\n",
    "\n",
    "    cap.release()\n",
    "    cv2.destroyAllWindows()"
   ]
  },
  {
   "cell_type": "code",
   "execution_count": 10,
   "metadata": {},
   "outputs": [
    {
     "name": "stderr",
     "output_type": "stream",
     "text": [
      "reading frames: 100%|██████████| 100/100 [04:09<00:00,  2.50s/it]\n"
     ]
    }
   ],
   "source": [
    "bg_gray = calcBackground(\"worms.avi\", num_samples=100, image_transform=toGrayscale)"
   ]
  },
  {
   "cell_type": "code",
   "execution_count": 15,
   "metadata": {},
   "outputs": [],
   "source": [
    "FindRois(\"worms.avi\", bg_gray, image_transform=toGrayscale)"
   ]
  },
  {
   "cell_type": "code",
   "execution_count": null,
   "metadata": {},
   "outputs": [],
   "source": [
    "cv2.destroyAllWindows()"
   ]
  }
 ],
 "metadata": {
  "kernelspec": {
   "display_name": "bio-proj",
   "language": "python",
   "name": "python3"
  },
  "language_info": {
   "codemirror_mode": {
    "name": "ipython",
    "version": 3
   },
   "file_extension": ".py",
   "mimetype": "text/x-python",
   "name": "python",
   "nbconvert_exporter": "python",
   "pygments_lexer": "ipython3",
   "version": "3.11.7"
  }
 },
 "nbformat": 4,
 "nbformat_minor": 2
}
