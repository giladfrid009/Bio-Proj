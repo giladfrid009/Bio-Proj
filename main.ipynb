{
    "cells": [
        {
            "cell_type": "code",
            "execution_count": 2,
            "metadata": {},
            "outputs": [],
            "source": [
                "import cv2 as cv\n",
                "import numpy as np"
            ]
        },
        {
            "cell_type": "code",
            "execution_count": 3,
            "metadata": {},
            "outputs": [],
            "source": [
                "cv.destroyAllWindows()"
            ]
        },
        {
            "cell_type": "code",
            "execution_count": 4,
            "metadata": {},
            "outputs": [],
            "source": [
                "def image_transform(image: np.ndarray):\n",
                "    # remove gaussian noise\n",
                "    image = cv.GaussianBlur(image, (3, 3), 0)\n",
                "\n",
                "    # quantize image\n",
                "    N = 50\n",
                "    image = np.round(image * (N / 255), decimals=0) * (255 / N)\n",
                "\n",
                "    return image.astype(np.uint8)"
            ]
        },
        {
            "cell_type": "code",
            "execution_count": 5,
            "metadata": {},
            "outputs": [],
            "source": [
                "from data.frame_reader import FrameReader\n",
                "from data.video_extractor import VideoExtractor\n",
                "\n",
                "# dataset_path = \"Archive/\"\n",
                "reader = FrameReader.create_from_directory(\"Archive/\")\n",
                "extractor = VideoExtractor(reader, num_workers=2)"
            ]
        },
        {
            "cell_type": "code",
            "execution_count": 6,
            "metadata": {},
            "outputs": [
                {
                    "data": {
                        "application/vnd.jupyter.widget-view+json": {
                            "model_id": "1cf86d2a7d9c4ea19986363f8327a542",
                            "version_major": 2,
                            "version_minor": 0
                        },
                        "text/plain": [
                            "Extracting background:   0%|          | 0/100 [00:00<?, ?fr/s]"
                        ]
                    },
                    "metadata": {},
                    "output_type": "display_data"
                }
            ],
            "source": [
                "from dataset.raw_dataset import *\n",
                "\n",
                "new_dataset_root = \"\"\n",
                "\n",
                "background = extractor.background()\n",
                "\n",
                "h, w = reader.frame_shape\n",
                "exp_meta = ExperimentMeta(18, (w, h), 42, background)\n",
                "experiment = ExperimentDataset.create_from_frame_reader(reader, exp_meta)"
            ]
        },
        {
            "cell_type": "code",
            "execution_count": 7,
            "metadata": {},
            "outputs": [
                {
                    "data": {
                        "application/vnd.jupyter.widget-view+json": {
                            "model_id": "d757391254004e9d8b2d37e8523a74be",
                            "version_major": 2,
                            "version_minor": 0
                        },
                        "text/plain": [
                            "Extracting bboxes:   0%|          | 0/213 [00:00<?, ?fr/s]"
                        ]
                    },
                    "metadata": {},
                    "output_type": "display_data"
                },
                {
                    "data": {
                        "application/vnd.jupyter.widget-view+json": {
                            "model_id": "2241ebee1f3b46bc887f61d4ebfcebc2",
                            "version_major": 2,
                            "version_minor": 0
                        },
                        "text/plain": [
                            "Saving videos:   0%|          | 0/1 [00:00<?, ?vid/s]"
                        ]
                    },
                    "metadata": {},
                    "output_type": "display_data"
                },
                {
                    "data": {
                        "application/vnd.jupyter.widget-view+json": {
                            "model_id": "bd5d4f5da4c44892823ef211201201fe",
                            "version_major": 2,
                            "version_minor": 0
                        },
                        "text/plain": [
                            "Calculating video samples:   0%|          | 0/10 [00:00<?, ?vid/s]"
                        ]
                    },
                    "metadata": {},
                    "output_type": "display_data"
                }
            ],
            "source": [
                "extractor.initialize(True)\n",
                "extractor.generate_videos(10, (250, 250), new_dataset_root + \"sample_all_{}\", file_extension=\"png\", max_length=100)"
            ]
        },
        {
            "cell_type": "code",
            "execution_count": 7,
            "metadata": {},
            "outputs": [
                {
                    "name": "stderr",
                    "output_type": "stream",
                    "text": [
                        "QStandardPaths: wrong permissions on runtime directory /run/user/1000/, 0755 instead of 0700\n"
                    ]
                },
                {
                    "ename": "KeyboardInterrupt",
                    "evalue": "",
                    "output_type": "error",
                    "traceback": [
                        "\u001b[0;31m---------------------------------------------------------------------------\u001b[0m",
                        "\u001b[0;31mKeyboardInterrupt\u001b[0m                         Traceback (most recent call last)",
                        "Cell \u001b[0;32mIn[7], line 9\u001b[0m\n\u001b[1;32m      7\u001b[0m view\u001b[38;5;241m.\u001b[39mvisualize_world()\n\u001b[1;32m      8\u001b[0m cv\u001b[38;5;241m.\u001b[39mimshow(\u001b[38;5;124m\"\u001b[39m\u001b[38;5;124mmicro\u001b[39m\u001b[38;5;124m\"\u001b[39m, view\u001b[38;5;241m.\u001b[39mcamera_view())\n\u001b[0;32m----> 9\u001b[0m \u001b[43mcv\u001b[49m\u001b[38;5;241;43m.\u001b[39;49m\u001b[43mwaitKey\u001b[49m\u001b[43m(\u001b[49m\u001b[38;5;241;43m0\u001b[39;49m\u001b[43m)\u001b[49m\n\u001b[1;32m     11\u001b[0m \u001b[38;5;28;01mif\u001b[39;00m view\u001b[38;5;241m.\u001b[39mprogress() \u001b[38;5;241m==\u001b[39m \u001b[38;5;28;01mFalse\u001b[39;00m:\n\u001b[1;32m     12\u001b[0m     \u001b[38;5;28;01mbreak\u001b[39;00m\n",
                        "\u001b[0;31mKeyboardInterrupt\u001b[0m: "
                    ]
                }
            ],
            "source": [
                "from view_controller import ViewController\n",
                "\n",
                "view = ViewController(FrameReader.create_from_directory(\"sample_all_0\"))\n",
                "\n",
                "while True:\n",
                "    #view.move_position(5, 5)\n",
                "    view.visualize_world()\n",
                "    cv.imshow(\"micro\", view.camera_view())\n",
                "    cv.waitKey(0)\n",
                "\n",
                "    if view.progress() == False:\n",
                "        break\n",
                "    \n",
                "cv.destroyAllWindows()"
            ]
        },
        {
            "cell_type": "code",
            "execution_count": null,
            "metadata": {},
            "outputs": [],
            "source": [
                "raise Exception(\"Finished\")"
            ]
        },
        {
            "cell_type": "code",
            "execution_count": null,
            "metadata": {},
            "outputs": [],
            "source": [
                "# TODO: IMPROVE\n",
                "def find_boxes(image: np.ndarray) -> np.ndarray:\n",
                "    # increase contrast of original image\n",
                "    image = cv.cvtColor(image, cv.COLOR_BGR2GRAY)\n",
                "\n",
                "    # remove gaussian noise\n",
                "    smoothed = cv.GaussianBlur(image, (3, 3), 0)\n",
                "\n",
                "    # apply threshold to image to convert it into black & white\n",
                "    _, mask = cv.threshold(smoothed, 160, 255, cv.THRESH_BINARY_INV)\n",
                "\n",
                "    # do some morphological magic to clean up noise from the mask\n",
                "    kernel = np.ones((5, 5), np.uint8)\n",
                "    mask = cv.morphologyEx(mask, cv.MORPH_OPEN, kernel)\n",
                "\n",
                "    # dilate to increase all object sizes in the mask\n",
                "    kernel = np.ones((3, 3), np.uint8)\n",
                "    mask = cv.dilate(mask, kernel, iterations=5)\n",
                "\n",
                "    image[mask == 0] = 255\n",
                "    cv.imshow(\"masked\", image)\n",
                "\n",
                "    # find contours\n",
                "    contours, _ = cv.findContours(mask, cv.RETR_EXTERNAL, cv.CHAIN_APPROX_SIMPLE)\n",
                "\n",
                "    # Populate bounding boxes\n",
                "    bbox_list = []\n",
                "    for c in contours:\n",
                "        area = cv.contourArea(c)\n",
                "\n",
                "        if area < 500 or area > 4000:\n",
                "            continue\n",
                "\n",
                "        box = cv.boundingRect(c)\n",
                "        bbox_list.append(box)\n",
                "\n",
                "    # Turn our bboxes into 2d ndarray\n",
                "    bboxes = np.asanyarray(bbox_list)\n",
                "    return bboxes"
            ]
        },
        {
            "cell_type": "code",
            "execution_count": null,
            "metadata": {},
            "outputs": [],
            "source": [
                "from view_controller import VideoStream\n",
                "from data.legacy_box_extractor import BoxExtractor\n",
                "\n",
                "video = VideoStream(\"worms.avi\", padding_size=(251, 251))\n",
                "extractor = BoxExtractor(find_boxes, slice_size=251, object_size=150)\n",
                "\n",
                "for frame in video:\n",
                "    if cv.waitKey(1) & 0xFF == ord(\"q\"):\n",
                "        break\n",
                "\n",
                "    head_coords, rois = extractor.run(frame)\n",
                "\n",
                "    # Draw bboxes\n",
                "    for box in head_coords:\n",
                "        x, y, w, h = box\n",
                "        cv.rectangle(frame, (x, y), (x + w, y + h), (0, 0, 255), 3)\n",
                "\n",
                "    cv.imshow(\"BBOXES\", frame)"
            ]
        },
        {
            "cell_type": "code",
            "execution_count": null,
            "metadata": {},
            "outputs": [],
            "source": [
                "import math\n",
                "from view_controller import ViewController\n",
                "\n",
                "sim = ViewController(\"worms.avi\", color_conversion=cv.COLOR_BGR2GRAY)\n",
                "\n",
                "fps = 40\n",
                "micro_view_time = 200\n",
                "tracking_time = 50\n",
                "moving_time = 25\n",
                "\n",
                "frame_time = 1 / fps\n",
                "micro_view_frames = math.ceil(micro_view_time / frame_time)\n",
                "tracking_frames = math.ceil(tracking_time / frame_time)\n",
                "moving_frames = math.ceil(moving_time / frame_time)\n",
                "\n",
                "while True:\n",
                "    # Here we assume that the worm is kinda centered on the screen\n",
                "    sim.micro_view()  # Takes 'micro_frames' frames, can do other stuff meanwhile\n",
                "    sim.next_frame(micro_view_frames - tracking_frames)\n",
                "\n",
                "    cam_view = sim.camera_view()\n",
                "    dx, dy = real_time_tracking(cam_view)  # Takes 'track_frames' frames, can't do anything meanwhile\n",
                "    sim.next_frame(tracking_frames)  # micro and tracking finished\n",
                "\n",
                "    sim.next_frame(moving_frames)  # moving takes 'move_frames' frames, can do other stuff meanwhile\n",
                "    sim.move_position(dx, dy)"
            ]
        }
    ],
    "metadata": {
        "kernelspec": {
            "display_name": "bio-proj",
            "language": "python",
            "name": "python3"
        },
        "language_info": {
            "codemirror_mode": {
                "name": "ipython",
                "version": 3
            },
            "file_extension": ".py",
            "mimetype": "text/x-python",
            "name": "python",
            "nbconvert_exporter": "python",
            "pygments_lexer": "ipython3",
            "version": "3.12.1"
        }
    },
    "nbformat": 4,
    "nbformat_minor": 2
}
