{
    "cells": [
        {
            "cell_type": "code",
            "execution_count": null,
            "metadata": {},
            "outputs": [],
            "source": [
                "import cv2 as cv\n",
                "import numpy as np"
            ]
        },
        {
            "cell_type": "code",
            "execution_count": null,
            "metadata": {},
            "outputs": [],
            "source": [
                "cv.destroyAllWindows()"
            ]
        },
        {
            "cell_type": "code",
            "execution_count": null,
            "metadata": {},
            "outputs": [],
            "source": [
                "from data.frame_reader import FrameReader\n",
                "from data.box_calculator import BoxCalculator\n",
                "\n",
                "reader = FrameReader.create_from_directory(\"Archive/\")\n",
                "bbox_calc = BoxCalculator(reader)"
            ]
        },
        {
            "cell_type": "code",
            "execution_count": null,
            "metadata": {},
            "outputs": [],
            "source": [
                "bbox_calc.calc_bounding_boxes(num_workers=0)"
            ]
        },
        {
            "cell_type": "code",
            "execution_count": null,
            "metadata": {},
            "outputs": [],
            "source": [
                "import math\n",
                "from view_controller import ViewController\n",
                "\n",
                "sim = ViewController(\"worms.avi\", color_conversion=cv.COLOR_BGR2GRAY)\n",
                "\n",
                "fps = 60\n",
                "micro_view_time = 200\n",
                "tracking_time = 50\n",
                "moving_time = 25\n",
                "\n",
                "frame_time = 1 / fps\n",
                "micro_view_frames = math.ceil(micro_view_time / frame_time)\n",
                "tracking_frames = math.ceil(tracking_time / frame_time)\n",
                "moving_frames = math.ceil(moving_time / frame_time)\n",
                "\n",
                "while True:\n",
                "    # Here we assume that the worm is kinda centered on the screen\n",
                "    sim.micro_view()  # Takes 'micro_frames' frames, can do other stuff meanwhile\n",
                "    sim.next_frame(micro_view_frames - tracking_frames)\n",
                "\n",
                "    cam_view = sim.camera_view()\n",
                "    dx, dy = real_time_tracking(cam_view)  # Takes 'track_frames' frames, can't do anything meanwhile\n",
                "    sim.next_frame(tracking_frames)  # micro and tracking finished\n",
                "\n",
                "    sim.next_frame(moving_frames)  # moving takes 'move_frames' frames, can do other stuff meanwhile\n",
                "    sim.move_position(dx, dy)"
            ]
        },
        {
            "cell_type": "code",
            "execution_count": null,
            "metadata": {},
            "outputs": [],
            "source": [
                "def image_transform(image: np.ndarray):\n",
                "    # remove gaussian noise\n",
                "    image = cv.GaussianBlur(image, (3, 3), 0)\n",
                "\n",
                "    # quantize image\n",
                "    N = 50\n",
                "    image = np.round(image * (N / 255), decimals=0) * (255 / N)\n",
                "\n",
                "    return image.astype(np.uint8)"
            ]
        },
        {
            "cell_type": "code",
            "execution_count": null,
            "metadata": {},
            "outputs": [],
            "source": [
                "from data.frame_reader import FrameReader\n",
                "from data.video_extractor import VideoExtractor\n",
                "\n",
                "# dataset_path = \"Archive/\"\n",
                "reader = FrameReader.create_from_directory(\"Archive/\")\n",
                "extractor = VideoExtractor(reader, num_workers=2)"
            ]
        },
        {
            "cell_type": "code",
            "execution_count": null,
            "metadata": {},
            "outputs": [],
            "source": [
                "from dataset.raw_dataset import *\n",
                "\n",
                "new_dataset_root = \"\"\n",
                "\n",
                "background = extractor.background()\n",
                "\n",
                "h, w = reader.frame_shape\n",
                "exp_meta = ExperimentMeta(18, (w, h), 42, background)\n",
                "experiment = ExperimentDataset.create_from_frame_reader(reader, exp_meta)"
            ]
        },
        {
            "cell_type": "code",
            "execution_count": null,
            "metadata": {},
            "outputs": [],
            "source": [
                "extractor.generate_videos(10, (250, 250), new_dataset_root + \"sample_all_{}\", max_length=100, name_format=\"img{:05}.png\")"
            ]
        },
        {
            "cell_type": "code",
            "execution_count": null,
            "metadata": {},
            "outputs": [],
            "source": [
                "from view_controller import ViewController\n",
                "\n",
                "view = ViewController(FrameReader.create_from_directory(\"sample_all_0\"))\n",
                "\n",
                "while True:\n",
                "    #view.move_position(5, 5)\n",
                "    view.visualize_world()\n",
                "    cv.imshow(\"micro\", view.camera_view())\n",
                "    cv.waitKey(0)\n",
                "\n",
                "    if view.progress() == False:\n",
                "        break\n",
                "    \n",
                "cv.destroyAllWindows()"
            ]
        },
        {
            "cell_type": "code",
            "execution_count": null,
            "metadata": {},
            "outputs": [],
            "source": [
                "raise Exception(\"Finished\")"
            ]
        },
        {
            "cell_type": "code",
            "execution_count": null,
            "metadata": {},
            "outputs": [],
            "source": [
                "# TODO: IMPROVE\n",
                "def find_boxes(image: np.ndarray) -> np.ndarray:\n",
                "    # increase contrast of original image\n",
                "    image = cv.cvtColor(image, cv.COLOR_BGR2GRAY)\n",
                "\n",
                "    # remove gaussian noise\n",
                "    smoothed = cv.GaussianBlur(image, (3, 3), 0)\n",
                "\n",
                "    # apply threshold to image to convert it into black & white\n",
                "    _, mask = cv.threshold(smoothed, 160, 255, cv.THRESH_BINARY_INV)\n",
                "\n",
                "    # do some morphological magic to clean up noise from the mask\n",
                "    kernel = np.ones((5, 5), np.uint8)\n",
                "    mask = cv.morphologyEx(mask, cv.MORPH_OPEN, kernel)\n",
                "\n",
                "    # dilate to increase all object sizes in the mask\n",
                "    kernel = np.ones((3, 3), np.uint8)\n",
                "    mask = cv.dilate(mask, kernel, iterations=5)\n",
                "\n",
                "    image[mask == 0] = 255\n",
                "    cv.imshow(\"masked\", image)\n",
                "\n",
                "    # find contours\n",
                "    contours, _ = cv.findContours(mask, cv.RETR_EXTERNAL, cv.CHAIN_APPROX_SIMPLE)\n",
                "\n",
                "    # Populate bounding boxes\n",
                "    bbox_list = []\n",
                "    for c in contours:\n",
                "        area = cv.contourArea(c)\n",
                "\n",
                "        if area < 500 or area > 4000:\n",
                "            continue\n",
                "\n",
                "        box = cv.boundingRect(c)\n",
                "        bbox_list.append(box)\n",
                "\n",
                "    # Turn our bboxes into 2d ndarray\n",
                "    bboxes = np.asanyarray(bbox_list)\n",
                "    return bboxes"
            ]
        },
        {
            "cell_type": "code",
            "execution_count": null,
            "metadata": {},
            "outputs": [],
            "source": [
                "from view_controller import VideoStream\n",
                "from data.legacy_box_extractor import BoxExtractor\n",
                "\n",
                "video = VideoStream(\"worms.avi\", padding_size=(251, 251))\n",
                "extractor = BoxExtractor(find_boxes, slice_size=251, object_size=150)\n",
                "\n",
                "for frame in video:\n",
                "    if cv.waitKey(1) & 0xFF == ord(\"q\"):\n",
                "        break\n",
                "\n",
                "    head_coords, rois = extractor.run(frame)\n",
                "\n",
                "    # Draw bboxes\n",
                "    for box in head_coords:\n",
                "        x, y, w, h = box\n",
                "        cv.rectangle(frame, (x, y), (x + w, y + h), (0, 0, 255), 3)\n",
                "\n",
                "    cv.imshow(\"BBOXES\", frame)"
            ]
        },
        {
            "cell_type": "code",
            "execution_count": null,
            "metadata": {},
            "outputs": [],
            "source": []
        },
        {
            "cell_type": "code",
            "execution_count": null,
            "metadata": {},
            "outputs": [],
            "source": [
                "import math\n",
                "from view_controller import ViewController\n",
                "\n",
                "sim = ViewController(\"worms.avi\", color_conversion=cv.COLOR_BGR2GRAY)\n",
                "\n",
                "fps = 40\n",
                "micro_view_time = 200\n",
                "tracking_time = 50\n",
                "moving_time = 25\n",
                "\n",
                "frame_time = 1 / fps\n",
                "micro_view_frames = math.ceil(micro_view_time / frame_time)\n",
                "tracking_frames = math.ceil(tracking_time / frame_time)\n",
                "moving_frames = math.ceil(moving_time / frame_time)\n",
                "\n",
                "while True:\n",
                "    # Here we assume that the worm is kinda centered on the screen\n",
                "    sim.micro_view()  # Takes 'micro_frames' frames, can do other stuff meanwhile\n",
                "    sim.next_frame(micro_view_frames - tracking_frames)\n",
                "\n",
                "    cam_view = sim.camera_view()\n",
                "    dx, dy = real_time_tracking(cam_view)  # Takes 'track_frames' frames, can't do anything meanwhile\n",
                "    sim.next_frame(tracking_frames)  # micro and tracking finished\n",
                "\n",
                "    sim.next_frame(moving_frames)  # moving takes 'move_frames' frames, can do other stuff meanwhile\n",
                "    sim.move_position(dx, dy)"
            ]
        }
    ],
    "metadata": {
        "kernelspec": {
            "display_name": "bio-proj",
            "language": "python",
            "name": "python3"
        },
        "language_info": {
            "codemirror_mode": {
                "name": "ipython",
                "version": 3
            },
            "file_extension": ".py",
            "mimetype": "text/x-python",
            "name": "python",
            "nbconvert_exporter": "python",
            "pygments_lexer": "ipython3",
            "version": "3.10.13"
        }
    },
    "nbformat": 4,
    "nbformat_minor": 2
}
