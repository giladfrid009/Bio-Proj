{
 "cells": [
  {
   "cell_type": "code",
   "execution_count": 1,
   "metadata": {},
   "outputs": [],
   "source": [
    "import cv2\n",
    "from cv2 import VideoCapture\n",
    "import numpy as np\n",
    "from tqdm import tqdm\n",
    "from typing import Callable"
   ]
  },
  {
   "cell_type": "code",
   "execution_count": 2,
   "metadata": {},
   "outputs": [],
   "source": [
    "def calcBackground(\n",
    "    videoPath: str,\n",
    "    numSamples: int = 100,\n",
    "    frameTransform: Callable[[np.ndarray], np.ndarray] = None,\n",
    ") -> np.ndarray:\n",
    "    # Open Video\n",
    "    cap = VideoCapture(videoPath)\n",
    "\n",
    "    # Get Video Length\n",
    "    length = int(cap.get(cv2.CAP_PROP_FRAME_COUNT))\n",
    "\n",
    "    # Randomly select up to 50 frames\n",
    "    frameIds = length * np.random.uniform(size=min(length, numSamples))\n",
    "\n",
    "    # Store selected frames in an array\n",
    "    frames = []\n",
    "    for fid in tqdm(frameIds, desc=\"reading frames\"):\n",
    "        cap.set(cv2.CAP_PROP_POS_FRAMES, fid)\n",
    "        ret, frame = cap.read()\n",
    "\n",
    "        # Apply transform if needed\n",
    "        if frameTransform is not None:\n",
    "            frame = frameTransform(frame)\n",
    "\n",
    "        # Convert to grayscale\n",
    "        frames.append(frame)\n",
    "\n",
    "    # Calculate the median along the time axis\n",
    "    medianFrame = np.median(frames, axis=0).astype(dtype=np.uint8)\n",
    "\n",
    "    return medianFrame"
   ]
  },
  {
   "cell_type": "code",
   "execution_count": 3,
   "metadata": {},
   "outputs": [
    {
     "name": "stderr",
     "output_type": "stream",
     "text": [
      "reading frames: 100%|██████████| 50/50 [02:05<00:00,  2.51s/it]\n"
     ]
    }
   ],
   "source": [
    "def toGrayscale(frame):\n",
    "    return cv2.cvtColor(frame, cv2.COLOR_BGR2GRAY)\n",
    "\n",
    "\n",
    "bgGray = calcBackground(\"worms.avi\", numSamples=100, frameTransform=toGrayscale)"
   ]
  },
  {
   "cell_type": "code",
   "execution_count": 4,
   "metadata": {},
   "outputs": [],
   "source": [
    "def extractBoxes(\n",
    "    image: np.ndarray,\n",
    "    imgBackground: np.ndarray,\n",
    "    diffThresh: int = 75,\n",
    "    dimThresh: int = 40,\n",
    ") -> np.ndarray:\n",
    "    # Calculate difference between background and image\n",
    "    diff = np.abs(image.astype(np.int32) - imgBackground.astype(np.int32)).astype(np.uint8)\n",
    "\n",
    "    # Turn differences mask to black & white according to a threshold value\n",
    "    _, mask = cv2.threshold(diff, diffThresh, 255, cv2.THRESH_BINARY)\n",
    "\n",
    "    # find contours in the binary mask\n",
    "    contours, _ = cv2.findContours(mask, cv2.RETR_EXTERNAL, cv2.CHAIN_APPROX_SIMPLE)\n",
    "\n",
    "    # Populate bounding boxes\n",
    "    bboxes = []\n",
    "    for c in contours:\n",
    "        rect = cv2.boundingRect(c)\n",
    "\n",
    "        # Skip too small bounding boxes\n",
    "        if rect[2] < dimThresh and rect[3] < dimThresh:\n",
    "            continue\n",
    "\n",
    "        bboxes.append(rect)\n",
    "\n",
    "    return bboxes"
   ]
  },
  {
   "cell_type": "code",
   "execution_count": 5,
   "metadata": {},
   "outputs": [],
   "source": [
    "def extractRois(image: np.ndarray, bboxes: list, width: int = 200, height: int = 200):\n",
    "    rois = []\n",
    "    for box in bboxes:\n",
    "        x, y, w, h = box\n",
    "\n",
    "        # Calculate center of bbox\n",
    "        xCenter, yCenter = x + w // 2, y + h // 2\n",
    "\n",
    "        # Get bottom left corner\n",
    "        x0, y0 = xCenter - width // 2, yCenter - height // 2\n",
    "        x0, y0 = max(0, x0), max(0, y0)\n",
    "\n",
    "        roi = image[y0 : y0 + height, x0 : x0 + width]\n",
    "\n",
    "        rois.append(roi)\n",
    "\n",
    "    return rois"
   ]
  },
  {
   "cell_type": "code",
   "execution_count": 10,
   "metadata": {},
   "outputs": [],
   "source": [
    "def FindRois(videoPath: str, diffThresh: int = 75, dimThresh: int = 40):\n",
    "    cap = VideoCapture(videoPath)\n",
    "\n",
    "    while True:\n",
    "        ret, image = cap.read()\n",
    "        if ret == False:\n",
    "            break\n",
    "\n",
    "        if cv2.waitKey(1) & 0xFF == ord(\"q\"):\n",
    "            break\n",
    "\n",
    "        gray = cv2.cvtColor(image, cv2.COLOR_BGR2GRAY)\n",
    "\n",
    "        bboxes = extractBoxes(gray, bgGray, diffThresh, dimThresh)\n",
    "\n",
    "        rois = extractRois(image, bboxes)\n",
    "\n",
    "        # Draw bboxes\n",
    "        for box in bboxes:\n",
    "            x, y, w, h = box\n",
    "\n",
    "            cv2.rectangle(image, (x, y), (x+w, y+h), (0, 0, 255), 3)\n",
    "\n",
    "        cv2.imshow(\"BBOXES\", image)\n",
    "\n",
    "    cap.release()\n",
    "    cv2.destroyAllWindows()\n",
    "\n",
    "\n",
    "FindRois(\"worms.avi\")"
   ]
  },
  {
   "cell_type": "code",
   "execution_count": 7,
   "metadata": {},
   "outputs": [],
   "source": [
    "cv2.destroyAllWindows()"
   ]
  }
 ],
 "metadata": {
  "kernelspec": {
   "display_name": "bio-proj",
   "language": "python",
   "name": "python3"
  },
  "language_info": {
   "codemirror_mode": {
    "name": "ipython",
    "version": 3
   },
   "file_extension": ".py",
   "mimetype": "text/x-python",
   "name": "python",
   "nbconvert_exporter": "python",
   "pygments_lexer": "ipython3",
   "version": "3.11.7"
  }
 },
 "nbformat": 4,
 "nbformat_minor": 2
}
