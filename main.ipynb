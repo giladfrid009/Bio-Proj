{
 "cells": [
  {
   "cell_type": "code",
   "execution_count": 1,
   "metadata": {},
   "outputs": [],
   "source": [
    "import cv2 as cv\n",
    "from cv2 import VideoCapture"
   ]
  },
  {
   "cell_type": "code",
   "execution_count": 2,
   "metadata": {},
   "outputs": [],
   "source": [
    "from view_controller import ViewController\n",
    "\n",
    "cap = VideoCapture(\"worms.avi\")\n",
    "\n",
    "sim = ViewController(cap, color_conversion=cv.COLOR_BGR2GRAY)\n",
    "\n",
    "while sim.next_frame():\n",
    "    sim.visualize_world()\n",
    "    sim.move_position(5, 5)\n",
    "\n",
    "    if cv.waitKey(1) & 0xFF == ord(\"q\"):\n",
    "        break\n",
    "\n",
    "cv.destroyAllWindows()"
   ]
  },
  {
   "cell_type": "code",
   "execution_count": null,
   "metadata": {},
   "outputs": [],
   "source": [
    "while True:\n",
    "    # Here we assume that the worm is kinda centered on the screen\n",
    "\n",
    "    sim.micro_view()  # Takes 8 frames @ 40 fps (200 ms), can do other stuff meanwhile\n",
    "    sim.next_frame(6)\n",
    "\n",
    "    cam_view = sim.camera_view()\n",
    "    dy, dx = real_time_tracking(cam_view)  # Takes 2 frames @ 40 fps (50 ms), can't do anything meanwhile\n",
    "    sim.next_frame(2)  # micro and tracking finished\n",
    "\n",
    "    sim.move_position(dy, dx)  # takes 1 frames @ 40 fps (25 ms), can do other stuff meanwhile\n",
    "    sim.next_frame(1)"
   ]
  },
  {
   "cell_type": "code",
   "execution_count": null,
   "metadata": {},
   "outputs": [],
   "source": [
    "while True:\n",
    "    # Here we assume that the worm is kinda centered on the screen\n",
    "\n",
    "    sim.micro_view()  # Takes 8 frames @ 40 fps (200 ms), can do other stuff meanwhile\n",
    "    sim.next_frame(6)\n",
    "\n",
    "    cam_view = sim.camera_view()\n",
    "    dy, dx = real_time_tracking(cam_view)  # Takes 2 frames @ 40 fps (50 ms), can't do anything meanwhile\n",
    "    sim.next_frame(2)\n",
    "\n",
    "    cam_view = sim.camera_view()\n",
    "    sim.move_position(dy, dx)  # takes 1 frames @ 40 fps (25 ms)\n",
    "    dy, dx = predict_future(cam_view)  # Takes 6 frames @ 40 fps (150 ms), can't do anything meanwhile\n",
    "    sim.next_frame(6)  # micro and tracking finished\n",
    "\n",
    "    sim.move_position(dy, dx)  # takes 1 frames @ 40 fps (25 ms), can do other stuff meanwhile\n",
    "    sim.next_frame(1)"
   ]
  }
 ],
 "metadata": {
  "kernelspec": {
   "display_name": "bio-proj",
   "language": "python",
   "name": "python3"
  },
  "language_info": {
   "codemirror_mode": {
    "name": "ipython",
    "version": 3
   },
   "file_extension": ".py",
   "mimetype": "text/x-python",
   "name": "python",
   "nbconvert_exporter": "python",
   "pygments_lexer": "ipython3",
   "version": "3.11.7"
  }
 },
 "nbformat": 4,
 "nbformat_minor": 2
}
