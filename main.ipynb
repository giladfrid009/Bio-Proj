{
    "cells": [
        {
            "cell_type": "code",
            "execution_count": null,
            "metadata": {},
            "outputs": [],
            "source": [
                "import cv2 as cv\n",
                "import numpy as np"
            ]
        },
        {
            "cell_type": "code",
            "execution_count": null,
            "metadata": {},
            "outputs": [],
            "source": [
                "# Copy Files From External Drive To Local Disk\n",
                "\n",
                "from data.file_utils import Files\n",
                "import shutil\n",
                "import os\n",
                "import numpy as np\n",
                "\n",
                "db_folder = \"/Volumes/DIY_NVME/Bio-informatic project/Exp_20240213_N2_JC01/\"\n",
                "# raw_ds_folder = \"/Users/guycohen/Library/CloudStorage/OneDrive-Technion/1 Courses/Bio Project/Data/EXP_01_PARTIAL2/\"\n",
                "raw_ds_folder = \"/Users/guycohen/Library/CloudStorage/OneDrive-Technion/1 Courses/Bio Project/Data/EXP_01_RAND/\"\n",
                "\n",
                "file_iter = Files(db_folder)\n",
                "print(len(file_iter))\n",
                "\n",
                "video_length = 1000\n",
                "sample_start_list = range(8000, 58000, 3700)\n",
                "rnd_fids = np.random.choice(len(file_iter), size=1000, replace=False)\n",
                "\n",
                "# for i in rnd_fids:\n",
                "#     src = file_iter.seek(i)\n",
                "#     filename = file_iter.get_filename()\n",
                "#     dst = raw_ds_folder + filename\n",
                "#     shutil.copyfile(src, dst)\n",
                "\n",
                "# for vid_start in sample_start_list:\n",
                "#     file_iter.seek(vid_start-1)\n",
                "#     ret = input(f\"Move {video_length} files, strating after {file_iter.get_filename()}? [y/n]\")\n",
                "#     if ret.upper() != 'Y':\n",
                "#         break\n",
                "#     for a in range(video_length):\n",
                "#         src = file_iter.__next__()\n",
                "#         filename = file_iter.get_filename()\n",
                "#         dst = raw_ds_folder + filename\n",
                "#         # os.symlink(src, dst)\n",
                "#         shutil.copyfile(src, dst)\n",
                "\n",
                "\n",
                "\n"
            ]
        },
        {
            "cell_type": "code",
            "execution_count": null,
            "metadata": {},
            "outputs": [],
            "source": [
                "cv.destroyAllWindows()"
            ]
        },
        {
            "cell_type": "code",
            "execution_count": null,
            "metadata": {},
            "outputs": [],
            "source": [
                "def image_transform(image: np.ndarray):\n",
                "    # remove gaussian noise\n",
                "    image = cv.GaussianBlur(image, (3, 3), 0)\n",
                "\n",
                "    # quantize image\n",
                "    N = 50\n",
                "    image = np.round(image * (N / 255), decimals=0) * (255 / N)\n",
                "\n",
                "    return image.astype(np.uint8)"
            ]
        },
        {
            "cell_type": "code",
            "execution_count": 1,
            "metadata": {},
            "outputs": [],
            "source": [
                "from dataclasses import dataclass\n",
                "# class to hold the db paths of our pipeline \n",
                "@dataclass(frozen=True)\n",
                "class PATHS:\n",
                "    raw_db:str\n",
                "    cropped_db:str\n",
                "    dlc_db:str\n"
            ]
        },
        {
            "cell_type": "code",
            "execution_count": 2,
            "metadata": {},
            "outputs": [],
            "source": [
                "# define the paths\n",
                "\n",
                "db_paths =  PATHS(raw_db=\"/Users/guycohen/Library/CloudStorage/OneDrive-Technion/1 Courses/Bio Project/Data/EXP_02_PARTIAL/\",\n",
                "            cropped_db=\"/Users/guycohen/Library/CloudStorage/OneDrive-Technion/1 Courses/Bio Project/Data/EXP_02_EXTRACTED/\",\n",
                "            dlc_db=\"/Users/guycohen/Desktop/Test-Dataset-2024-02-26/labeled-data/output/\",\n",
                "            )\n",
                "db_paths2 =  PATHS(raw_db=\"/Users/guycohen/Library/CloudStorage/OneDrive-Technion/1 Courses/Bio Project/Data/EXP_01_RAND/\",\n",
                "            cropped_db=\"/Users/guycohen/Library/CloudStorage/OneDrive-Technion/1 Courses/Bio Project/Data/EXP_01_EXTRACTED2/\",\n",
                "            dlc_db=\"/Users/guycohen/Desktop/Test-Dataset-2024-02-26/labeled-data/output/\",\n",
                "            )"
            ]
        },
        {
            "cell_type": "code",
            "execution_count": 3,
            "metadata": {},
            "outputs": [],
            "source": [
                "# Initialize frame reader and extractor\n",
                "\n",
                "from data.frame_reader import FrameReader\n",
                "from data.video_extractor import VideoExtractor\n",
                "\n",
                "\n",
                "reader = FrameReader.create_from_directory(db_paths2.raw_db)\n",
                "extractor = VideoExtractor(reader, num_workers=4)"
            ]
        },
        {
            "cell_type": "code",
            "execution_count": 6,
            "metadata": {},
            "outputs": [],
            "source": [
                "sample_path = \"/Users/guycohen/Library/CloudStorage/OneDrive-Technion/1 Courses/Bio Project/Data/samples\"\n",
                "\n",
                "extractor.background()\n",
                "\n",
                "extractor.create_samples(1000, (400,400), sample_path)"
            ]
        },
        {
            "cell_type": "code",
            "execution_count": 7,
            "metadata": {},
            "outputs": [],
            "source": [
                "reader = FrameReader.create_from_directory(sample_path)\n",
                "for f in reader:\n",
                "    if reader.frame_shape != (400,400):\n",
                "        print(\"ERROR\")"
            ]
        },
        {
            "cell_type": "code",
            "execution_count": null,
            "metadata": {},
            "outputs": [],
            "source": [
                "from dataset.raw_dataset import *\n",
                "from data.file_utils import pickle_load_object, pickle_save_object\n",
                "\n",
                "background = extractor.background()\n",
                "\n",
                "h, w = reader.frame_shape\n",
                "exp_meta = ExperimentMeta(60, (w, h), 133.33333, background)\n",
                "experiment = ExperimentDataset.create_from_frame_reader(reader, exp_meta)"
            ]
        },
        {
            "cell_type": "code",
            "execution_count": 6,
            "metadata": {},
            "outputs": [],
            "source": [
                "from data.file_utils import folder_convert_images, rename_raw_file_names, Files\n",
                "import os\n",
                "\n",
                "# sample_path = \"/Users/guycohen/Library/CloudStorage/OneDrive-Technion/1 Courses/Bio Project/Data/samples/\"\n",
                "\n",
                "# file_iter = Files(sample_path, 'png')\n",
                "\n",
                "# for file in file_iter:\n",
                "#     # print(file[:-len(file_iter.get_filename())])\n",
                "#     new_name = file_iter.get_filename().split('-')[-1]\n",
                "#     dst = sample_path + new_name\n",
                "#     os.rename(file, dst)\n",
                "\n"
            ]
        },
        {
            "cell_type": "code",
            "execution_count": null,
            "metadata": {},
            "outputs": [],
            "source": [
                "# Copy the extracted images to the dlc labeling folder\n",
                "\n",
                "from data.file_utils import Files\n",
                "import shutil\n",
                "\n",
                "every_x_samples = 30\n",
                "count = 0\n",
                "\n",
                "directories = Files(db_paths.cropped_db, scan_dirs=True)\n",
                "for dir in directories:\n",
                "    file_iter = Files(dir, '.png')\n",
                "    count += len(file_iter)\n",
                "    for i in range(0, len(file_iter), every_x_samples):\n",
                "        file = file_iter.seek(i)\n",
                "        shutil.copyfile(file, db_paths.dlc_db+file_iter.get_filename())\n",
                "\n",
                "print(count)"
            ]
        },
        {
            "cell_type": "code",
            "execution_count": null,
            "metadata": {},
            "outputs": [],
            "source": [
                "from view_controller import ViewController\n",
                "\n",
                "view = ViewController(FrameReader.create_from_directory(\"sample_all_0\"))\n",
                "\n",
                "while True:\n",
                "    #view.move_position(5, 5)\n",
                "    view.visualize_world()\n",
                "    cv.imshow(\"micro\", view.camera_view())\n",
                "    cv.waitKey(0)\n",
                "\n",
                "    if view.progress() == False:\n",
                "        break\n",
                "    \n",
                "cv.destroyAllWindows()"
            ]
        },
        {
            "cell_type": "code",
            "execution_count": null,
            "metadata": {},
            "outputs": [],
            "source": [
                "raise Exception(\"Finished\")"
            ]
        },
        {
            "cell_type": "code",
            "execution_count": null,
            "metadata": {},
            "outputs": [],
            "source": [
                "# TODO: IMPROVE\n",
                "def find_boxes(image: np.ndarray) -> np.ndarray:\n",
                "    # increase contrast of original image\n",
                "    image = cv.cvtColor(image, cv.COLOR_BGR2GRAY)\n",
                "\n",
                "    # remove gaussian noise\n",
                "    smoothed = cv.GaussianBlur(image, (3, 3), 0)\n",
                "\n",
                "    # apply threshold to image to convert it into black & white\n",
                "    _, mask = cv.threshold(smoothed, 160, 255, cv.THRESH_BINARY_INV)\n",
                "\n",
                "    # do some morphological magic to clean up noise from the mask\n",
                "    kernel = np.ones((5, 5), np.uint8)\n",
                "    mask = cv.morphologyEx(mask, cv.MORPH_OPEN, kernel)\n",
                "\n",
                "    # dilate to increase all object sizes in the mask\n",
                "    kernel = np.ones((3, 3), np.uint8)\n",
                "    mask = cv.dilate(mask, kernel, iterations=5)\n",
                "\n",
                "    image[mask == 0] = 255\n",
                "    cv.imshow(\"masked\", image)\n",
                "\n",
                "    # find contours\n",
                "    contours, _ = cv.findContours(mask, cv.RETR_EXTERNAL, cv.CHAIN_APPROX_SIMPLE)\n",
                "\n",
                "    # Populate bounding boxes\n",
                "    bbox_list = []\n",
                "    for c in contours:\n",
                "        area = cv.contourArea(c)\n",
                "\n",
                "        if area < 500 or area > 4000:\n",
                "            continue\n",
                "\n",
                "        box = cv.boundingRect(c)\n",
                "        bbox_list.append(box)\n",
                "\n",
                "    # Turn our bboxes into 2d ndarray\n",
                "    bboxes = np.asanyarray(bbox_list)\n",
                "    return bboxes"
            ]
        },
        {
            "cell_type": "code",
            "execution_count": null,
            "metadata": {},
            "outputs": [],
            "source": [
                "from view_controller import VideoStream\n",
                "from data.legacy_box_extractor import BoxExtractor\n",
                "\n",
                "video = VideoStream(\"worms.avi\", padding_size=(251, 251))\n",
                "extractor = BoxExtractor(find_boxes, slice_size=251, object_size=150)\n",
                "\n",
                "for frame in video:\n",
                "    if cv.waitKey(1) & 0xFF == ord(\"q\"):\n",
                "        break\n",
                "\n",
                "    head_coords, rois = extractor.run(frame)\n",
                "\n",
                "    # Draw bboxes\n",
                "    for box in head_coords:\n",
                "        x, y, w, h = box\n",
                "        cv.rectangle(frame, (x, y), (x + w, y + h), (0, 0, 255), 3)\n",
                "\n",
                "    cv.imshow(\"BBOXES\", frame)"
            ]
        },
        {
            "cell_type": "code",
            "execution_count": null,
            "metadata": {},
            "outputs": [],
            "source": [
                "import math\n",
                "from view_controller import ViewController\n",
                "\n",
                "sim = ViewController(\"worms.avi\", color_conversion=cv.COLOR_BGR2GRAY)\n",
                "\n",
                "fps = 40\n",
                "micro_view_time = 200\n",
                "tracking_time = 50\n",
                "moving_time = 25\n",
                "\n",
                "frame_time = 1 / fps\n",
                "micro_view_frames = math.ceil(micro_view_time / frame_time)\n",
                "tracking_frames = math.ceil(tracking_time / frame_time)\n",
                "moving_frames = math.ceil(moving_time / frame_time)\n",
                "\n",
                "while True:\n",
                "    # Here we assume that the worm is kinda centered on the screen\n",
                "    sim.micro_view()  # Takes 'micro_frames' frames, can do other stuff meanwhile\n",
                "    sim.next_frame(micro_view_frames - tracking_frames)\n",
                "\n",
                "    cam_view = sim.camera_view()\n",
                "    dx, dy = real_time_tracking(cam_view)  # Takes 'track_frames' frames, can't do anything meanwhile\n",
                "    sim.next_frame(tracking_frames)  # micro and tracking finished\n",
                "\n",
                "    sim.next_frame(moving_frames)  # moving takes 'move_frames' frames, can do other stuff meanwhile\n",
                "    sim.move_position(dx, dy)"
            ]
        }
    ],
    "metadata": {
        "kernelspec": {
            "display_name": "bio-proj",
            "language": "python",
            "name": "python3"
        },
        "language_info": {
            "codemirror_mode": {
                "name": "ipython",
                "version": 3
            },
            "file_extension": ".py",
            "mimetype": "text/x-python",
            "name": "python",
            "nbconvert_exporter": "python",
            "pygments_lexer": "ipython3",
            "version": "3.11.7"
        }
    },
    "nbformat": 4,
    "nbformat_minor": 2
}
