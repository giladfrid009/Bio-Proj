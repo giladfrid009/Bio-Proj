{
 "cells": [
  {
   "cell_type": "code",
   "execution_count": null,
   "metadata": {},
   "outputs": [],
   "source": [
    "import cv2 as cv\n",
    "from cv2 import VideoCapture"
   ]
  },
  {
   "cell_type": "code",
   "execution_count": null,
   "metadata": {},
   "outputs": [],
   "source": [
    "from box_extractor import BoxExtractor, find_boxes\n",
    "\n",
    "extractor = BoxExtractor(find_boxes, slice_size=400, object_size=150)\n",
    "\n",
    "cap = VideoCapture(\"worms.avi\")\n",
    "\n",
    "i = 0\n",
    "while True:\n",
    "    ret, image = cap.read()\n",
    "    if ret == False:\n",
    "        break\n",
    "\n",
    "    if cv.waitKey(1) & 0xFF == ord(\"q\"):\n",
    "        break\n",
    "\n",
    "    coords, rois = extractor.run(image)\n",
    "\n",
    "    # Draw bboxes\n",
    "    for box in coords:\n",
    "        x, y, w, h = box\n",
    "        cv.rectangle(image, (x, y), (x + w, y + h), (0, 0, 255), 3)\n",
    "\n",
    "    cv.imshow(\"BBOXES\", image)\n",
    "\n",
    "    i += 1\n",
    "\n",
    "cap.release()\n",
    "cv.destroyAllWindows()"
   ]
  },
  {
   "cell_type": "code",
   "execution_count": null,
   "metadata": {},
   "outputs": [],
   "source": [
    "from view_controller import ViewController\n",
    "from timing_context import TimingContext\n",
    "\n",
    "cap = VideoCapture(\"worms.avi\")\n",
    "\n",
    "sim = ViewController(cap, color_conversion=cv.COLOR_BGR2GRAY)\n",
    "\n",
    "while True:\n",
    "    with TimingContext():\n",
    "        sim.next_frame()\n",
    "\n",
    "    sim.visualize_world()\n",
    "    sim.move_position(5, 5)\n",
    "\n",
    "    if cv.waitKey(1) & 0xFF == ord(\"q\"):\n",
    "        break\n",
    "\n",
    "cv.destroyAllWindows()"
   ]
  },
  {
   "cell_type": "code",
   "execution_count": 2,
   "metadata": {},
   "outputs": [
    {
     "ename": "NameError",
     "evalue": "name 'sim' is not defined",
     "output_type": "error",
     "traceback": [
      "\u001b[0;31m---------------------------------------------------------------------------\u001b[0m",
      "\u001b[0;31mNameError\u001b[0m                                 Traceback (most recent call last)",
      "Cell \u001b[0;32mIn[2], line 16\u001b[0m\n\u001b[1;32m     11\u001b[0m move_frames \u001b[38;5;241m=\u001b[39m math\u001b[38;5;241m.\u001b[39mceil(move_time \u001b[38;5;241m/\u001b[39m frame_time)\n\u001b[1;32m     13\u001b[0m \u001b[38;5;28;01mwhile\u001b[39;00m \u001b[38;5;28;01mTrue\u001b[39;00m:\n\u001b[1;32m     14\u001b[0m     \u001b[38;5;66;03m# Here we assume that the worm is kinda centered on the screen\u001b[39;00m\n\u001b[0;32m---> 16\u001b[0m     \u001b[43msim\u001b[49m\u001b[38;5;241m.\u001b[39mmicro_view()  \u001b[38;5;66;03m# Takes 'micro_frames' frames, can do other stuff meanwhile\u001b[39;00m\n\u001b[1;32m     17\u001b[0m     sim\u001b[38;5;241m.\u001b[39mnext_frame(micro_frames \u001b[38;5;241m-\u001b[39m track_frames)\n\u001b[1;32m     19\u001b[0m     cam_view \u001b[38;5;241m=\u001b[39m sim\u001b[38;5;241m.\u001b[39mcamera_view()\n",
      "\u001b[0;31mNameError\u001b[0m: name 'sim' is not defined"
     ]
    }
   ],
   "source": [
    "import math\n",
    "\n",
    "fps = 40\n",
    "micro_view_time = 200\n",
    "tracking_time = 50\n",
    "moving_time = 25\n",
    "\n",
    "frame_time = 1 / fps\n",
    "micro_view_frames = math.ceil(micro_view_time / frame_time)\n",
    "tracking_frames = math.ceil(tracking_time / frame_time)\n",
    "moving_frames = math.ceil(moving_time / frame_time)\n",
    "\n",
    "while True:\n",
    "    # Here we assume that the worm is kinda centered on the screen\n",
    "    sim.micro_view()  # Takes 'micro_frames' frames, can do other stuff meanwhile\n",
    "    sim.next_frame(micro_view_frames - tracking_frames)\n",
    "\n",
    "    cam_view = sim.camera_view()\n",
    "    dx, dy = real_time_tracking(cam_view)  # Takes 'track_frames' frames, can't do anything meanwhile\n",
    "    sim.next_frame(tracking_frames)  # micro and tracking finished\n",
    "\n",
    "    sim.next_frame(moving_frames)  # moving takes 'move_frames' frames, can do other stuff meanwhile\n",
    "    sim.move_position(dx, dy)"
   ]
  }
 ],
 "metadata": {
  "kernelspec": {
   "display_name": "bio-proj",
   "language": "python",
   "name": "python3"
  },
  "language_info": {
   "codemirror_mode": {
    "name": "ipython",
    "version": 3
   },
   "file_extension": ".py",
   "mimetype": "text/x-python",
   "name": "python",
   "nbconvert_exporter": "python",
   "pygments_lexer": "ipython3",
   "version": "3.11.7"
  }
 },
 "nbformat": 4,
 "nbformat_minor": 2
}
