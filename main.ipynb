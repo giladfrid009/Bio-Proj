{
    "cells": [
        {
            "cell_type": "code",
            "execution_count": null,
            "metadata": {},
            "outputs": [],
            "source": [
                "import cv2 as cv\n",
                "import numpy as np"
            ]
        },
        {
            "cell_type": "code",
            "execution_count": null,
            "metadata": {},
            "outputs": [],
            "source": [
                "from evaluation.simulator import *\n",
                "from evaluation.sim_controllers import *\n",
                "\n",
                "time_config = TimingConfig(\n",
                "    frames_per_sec=60,\n",
                "    imaging_time_ms=200,\n",
                "    pred_time_ms=40,\n",
                "    moving_time_ms=50,\n",
                "    px_per_mm=90,\n",
                "    camera_size_mm=(4, 4),\n",
                "    micro_size_mm=(0.225, 0.225),\n",
                "    init_position=(0, 2400),\n",
                "    frame_padding_value=(255, 255, 255),\n",
                ")\n",
                "\n",
                "log_config = LogConfig(\n",
                "    root_folder=\"logs/\",\n",
                "    save_mic_view=True,\n",
                "    save_cam_view=True,\n",
                ")\n",
                "\n",
                "\n",
                "frames_path = \"Archive/\"\n",
                "reader = FrameReader.create_from_directory(frames_path)\n"
            ]
        },
        {
            "cell_type": "code",
            "execution_count": null,
            "metadata": {},
            "outputs": [],
            "source": [
                "from ultralytics import YOLO\n",
                "\n",
                "yolo_path = \"yolov8m-trained.pt\"\n",
                "yolo = YOLO(model=yolo_path, task=\"detect\")\n",
                "\n",
                "controller = LoggingController(log_config, time_config, yolo)\n",
                "sim = Simulator(time_config, reader, controller)"
            ]
        },
        {
            "cell_type": "code",
            "execution_count": null,
            "metadata": {},
            "outputs": [],
            "source": [
                "sim.run_simulation(visualize=True)"
            ]
        },
        {
            "cell_type": "code",
            "execution_count": null,
            "metadata": {},
            "outputs": [],
            "source": [
                "cv.destroyAllWindows()"
            ]
        },
        {
            "cell_type": "code",
            "execution_count": null,
            "metadata": {},
            "outputs": [],
            "source": [
                "from frame_reader import FrameReader\n",
                "\n",
                "reader = FrameReader.create_from_directory(\"Archive/\")"
            ]
        },
        {
            "cell_type": "code",
            "execution_count": null,
            "metadata": {},
            "outputs": [],
            "source": [
                "from dataset.create.box_calculator import BoxCalculator\n",
                "from dataset.create.sample_extractor import SampleExtractor\n",
                "\n",
                "bbox_calc = BoxCalculator(reader)\n",
                "extractor = SampleExtractor(bbox_calc)\n",
                "extractor.create_all_samples(target_size=(400, 400), save_folder=\"samples\")"
            ]
        },
        {
            "cell_type": "code",
            "execution_count": null,
            "metadata": {},
            "outputs": [],
            "source": [
                "raise Exception(\"Finished\")"
            ]
        },
        {
            "cell_type": "code",
            "execution_count": null,
            "metadata": {},
            "outputs": [],
            "source": [
                "# TODO: IMPROVE\n",
                "def find_boxes(image: np.ndarray) -> np.ndarray:\n",
                "    # increase contrast of original image\n",
                "    image = cv.cvtColor(image, cv.COLOR_BGR2GRAY)\n",
                "\n",
                "    # remove gaussian noise\n",
                "    smoothed = cv.GaussianBlur(image, (3, 3), 0)\n",
                "\n",
                "    # apply threshold to image to convert it into black & white\n",
                "    _, mask = cv.threshold(smoothed, 160, 255, cv.THRESH_BINARY_INV)\n",
                "\n",
                "    # do some morphological magic to clean up noise from the mask\n",
                "    kernel = np.ones((5, 5), np.uint8)\n",
                "    mask = cv.morphologyEx(mask, cv.MORPH_OPEN, kernel)\n",
                "\n",
                "    # dilate to increase all object sizes in the mask\n",
                "    kernel = np.ones((3, 3), np.uint8)\n",
                "    mask = cv.dilate(mask, kernel, iterations=5)\n",
                "\n",
                "    image[mask == 0] = 255\n",
                "    cv.imshow(\"masked\", image)\n",
                "\n",
                "    # find contours\n",
                "    contours, _ = cv.findContours(mask, cv.RETR_EXTERNAL, cv.CHAIN_APPROX_SIMPLE)\n",
                "\n",
                "    # Populate bounding boxes\n",
                "    bbox_list = []\n",
                "    for c in contours:\n",
                "        area = cv.contourArea(c)\n",
                "\n",
                "        if area < 500 or area > 4000:\n",
                "            continue\n",
                "\n",
                "        box = cv.boundingRect(c)\n",
                "        bbox_list.append(box)\n",
                "\n",
                "    # Turn our bboxes into 2d ndarray\n",
                "    bboxes = np.asanyarray(bbox_list)\n",
                "    return bboxes"
            ]
        }
    ],
    "metadata": {
        "kernelspec": {
            "display_name": "bio-proj",
            "language": "python",
            "name": "python3"
        },
        "language_info": {
            "codemirror_mode": {
                "name": "ipython",
                "version": 3
            },
            "file_extension": ".py",
            "mimetype": "text/x-python",
            "name": "python",
            "nbconvert_exporter": "python",
            "pygments_lexer": "ipython3",
            "version": "3.10.13"
        }
    },
    "nbformat": 4,
    "nbformat_minor": 2
}
