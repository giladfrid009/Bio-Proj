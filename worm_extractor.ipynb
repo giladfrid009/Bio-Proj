{
 "cells": [
  {
   "cell_type": "code",
   "execution_count": 1,
   "metadata": {},
   "outputs": [],
   "source": [
    "from box_extractor import BoxExtractor, find_boxes\n",
    "from cv2 import VideoCapture\n",
    "import cv2 as cv\n",
    "\n",
    "extractor = BoxExtractor(find_boxes, slice_size=400, object_size=150)\n",
    "\n",
    "cap = VideoCapture(\"worms.avi\")\n",
    "\n",
    "i = 0\n",
    "while True:\n",
    "    ret, image = cap.read()\n",
    "    if ret == False:\n",
    "        break\n",
    "\n",
    "    if cv.waitKey(1) & 0xFF == ord(\"q\"):\n",
    "        break\n",
    "\n",
    "    coords, rois = extractor.run(image)\n",
    "\n",
    "    # Draw bboxes\n",
    "    for box in coords:\n",
    "        x, y, w, h = box\n",
    "        cv.rectangle(image, (x, y), (x + w, y + h), (0, 0, 255), 3)\n",
    "\n",
    "    cv.imshow(\"BBOXES\", image)\n",
    "\n",
    "    i += 1\n",
    "\n",
    "cap.release()\n",
    "cv.destroyAllWindows()"
   ]
  },
  {
   "cell_type": "code",
   "execution_count": 333,
   "metadata": {},
   "outputs": [],
   "source": [
    "cv.destroyAllWindows()"
   ]
  }
 ],
 "metadata": {
  "kernelspec": {
   "display_name": "bio-proj",
   "language": "python",
   "name": "python3"
  },
  "language_info": {
   "codemirror_mode": {
    "name": "ipython",
    "version": 3
   },
   "file_extension": ".py",
   "mimetype": "text/x-python",
   "name": "python",
   "nbconvert_exporter": "python",
   "pygments_lexer": "ipython3",
   "version": "3.11.7"
  }
 },
 "nbformat": 4,
 "nbformat_minor": 2
}
